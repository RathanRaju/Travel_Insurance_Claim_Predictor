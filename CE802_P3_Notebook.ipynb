{
 "cells": [
  {
   "cell_type": "markdown",
   "metadata": {},
   "source": [
    "#### Investigating the performance of a number of machine learning procedures on the dataset (CE802_P3_Data.zip)"
   ]
  },
  {
   "cell_type": "code",
   "execution_count": 1,
   "metadata": {},
   "outputs": [],
   "source": [
    "# Importing the neccessary libraries for loading the data and visualization of data\n",
    "import pandas as pd\n",
    "import numpy as np\n",
    "import seaborn as sns\n",
    "import matplotlib.pyplot as plt\n",
    "%matplotlib inline"
   ]
  },
  {
   "cell_type": "code",
   "execution_count": 2,
   "metadata": {},
   "outputs": [],
   "source": [
    "df = pd.read_csv(\"CE802_P3_Data.csv\")"
   ]
  },
  {
   "cell_type": "code",
   "execution_count": 3,
   "metadata": {},
   "outputs": [
    {
     "data": {
      "text/html": [
       "<div>\n",
       "<style scoped>\n",
       "    .dataframe tbody tr th:only-of-type {\n",
       "        vertical-align: middle;\n",
       "    }\n",
       "\n",
       "    .dataframe tbody tr th {\n",
       "        vertical-align: top;\n",
       "    }\n",
       "\n",
       "    .dataframe thead th {\n",
       "        text-align: right;\n",
       "    }\n",
       "</style>\n",
       "<table border=\"1\" class=\"dataframe\">\n",
       "  <thead>\n",
       "    <tr style=\"text-align: right;\">\n",
       "      <th></th>\n",
       "      <th>F1</th>\n",
       "      <th>F2</th>\n",
       "      <th>F3</th>\n",
       "      <th>F4</th>\n",
       "      <th>F5</th>\n",
       "      <th>F6</th>\n",
       "      <th>F7</th>\n",
       "      <th>F8</th>\n",
       "      <th>F9</th>\n",
       "      <th>F10</th>\n",
       "      <th>F11</th>\n",
       "      <th>F12</th>\n",
       "      <th>F13</th>\n",
       "      <th>F14</th>\n",
       "      <th>F15</th>\n",
       "      <th>F16</th>\n",
       "      <th>Target</th>\n",
       "    </tr>\n",
       "  </thead>\n",
       "  <tbody>\n",
       "    <tr>\n",
       "      <th>0</th>\n",
       "      <td>UK</td>\n",
       "      <td>258.63</td>\n",
       "      <td>-162.72</td>\n",
       "      <td>-2229.84</td>\n",
       "      <td>31489.95</td>\n",
       "      <td>2.52</td>\n",
       "      <td>192.26</td>\n",
       "      <td>-11.99</td>\n",
       "      <td>12</td>\n",
       "      <td>Very low</td>\n",
       "      <td>280.78</td>\n",
       "      <td>11.44</td>\n",
       "      <td>-4.77</td>\n",
       "      <td>52.05</td>\n",
       "      <td>171.46</td>\n",
       "      <td>6</td>\n",
       "      <td>0.00</td>\n",
       "    </tr>\n",
       "    <tr>\n",
       "      <th>1</th>\n",
       "      <td>Europe</td>\n",
       "      <td>1033.35</td>\n",
       "      <td>-105.16</td>\n",
       "      <td>-2786.58</td>\n",
       "      <td>24534.99</td>\n",
       "      <td>7.18</td>\n",
       "      <td>46.52</td>\n",
       "      <td>-10.66</td>\n",
       "      <td>15</td>\n",
       "      <td>Very high</td>\n",
       "      <td>0.02</td>\n",
       "      <td>7.78</td>\n",
       "      <td>-6.82</td>\n",
       "      <td>26.49</td>\n",
       "      <td>119.34</td>\n",
       "      <td>4</td>\n",
       "      <td>1073.28</td>\n",
       "    </tr>\n",
       "    <tr>\n",
       "      <th>2</th>\n",
       "      <td>UK</td>\n",
       "      <td>-1207.47</td>\n",
       "      <td>-112.02</td>\n",
       "      <td>-3162.63</td>\n",
       "      <td>23017.47</td>\n",
       "      <td>3.85</td>\n",
       "      <td>71.06</td>\n",
       "      <td>-4.24</td>\n",
       "      <td>24</td>\n",
       "      <td>Medium</td>\n",
       "      <td>16.32</td>\n",
       "      <td>8.14</td>\n",
       "      <td>-0.91</td>\n",
       "      <td>26.97</td>\n",
       "      <td>15.96</td>\n",
       "      <td>7</td>\n",
       "      <td>1203.67</td>\n",
       "    </tr>\n",
       "    <tr>\n",
       "      <th>3</th>\n",
       "      <td>USA</td>\n",
       "      <td>-1090.17</td>\n",
       "      <td>-99.53</td>\n",
       "      <td>-3784.14</td>\n",
       "      <td>25597.56</td>\n",
       "      <td>1.18</td>\n",
       "      <td>-8.54</td>\n",
       "      <td>-4.70</td>\n",
       "      <td>18</td>\n",
       "      <td>High</td>\n",
       "      <td>1.08</td>\n",
       "      <td>2.28</td>\n",
       "      <td>-8.12</td>\n",
       "      <td>35.34</td>\n",
       "      <td>176.32</td>\n",
       "      <td>1</td>\n",
       "      <td>789.66</td>\n",
       "    </tr>\n",
       "    <tr>\n",
       "      <th>4</th>\n",
       "      <td>Europe</td>\n",
       "      <td>-2191.02</td>\n",
       "      <td>-69.12</td>\n",
       "      <td>-2956.14</td>\n",
       "      <td>24770.94</td>\n",
       "      <td>6.22</td>\n",
       "      <td>55.22</td>\n",
       "      <td>-7.82</td>\n",
       "      <td>9</td>\n",
       "      <td>Low</td>\n",
       "      <td>134.62</td>\n",
       "      <td>13.82</td>\n",
       "      <td>-5.92</td>\n",
       "      <td>31.47</td>\n",
       "      <td>117.94</td>\n",
       "      <td>4</td>\n",
       "      <td>2093.67</td>\n",
       "    </tr>\n",
       "  </tbody>\n",
       "</table>\n",
       "</div>"
      ],
      "text/plain": [
       "       F1       F2      F3       F4        F5    F6      F7     F8  F9  \\\n",
       "0      UK   258.63 -162.72 -2229.84  31489.95  2.52  192.26 -11.99  12   \n",
       "1  Europe  1033.35 -105.16 -2786.58  24534.99  7.18   46.52 -10.66  15   \n",
       "2      UK -1207.47 -112.02 -3162.63  23017.47  3.85   71.06  -4.24  24   \n",
       "3     USA -1090.17  -99.53 -3784.14  25597.56  1.18   -8.54  -4.70  18   \n",
       "4  Europe -2191.02  -69.12 -2956.14  24770.94  6.22   55.22  -7.82   9   \n",
       "\n",
       "         F10     F11    F12   F13    F14     F15  F16   Target  \n",
       "0   Very low  280.78  11.44 -4.77  52.05  171.46    6     0.00  \n",
       "1  Very high    0.02   7.78 -6.82  26.49  119.34    4  1073.28  \n",
       "2     Medium   16.32   8.14 -0.91  26.97   15.96    7  1203.67  \n",
       "3       High    1.08   2.28 -8.12  35.34  176.32    1   789.66  \n",
       "4        Low  134.62  13.82 -5.92  31.47  117.94    4  2093.67  "
      ]
     },
     "execution_count": 3,
     "metadata": {},
     "output_type": "execute_result"
    }
   ],
   "source": [
    "# Displaying the first five rows of the dataset using function head()\n",
    "df.head()"
   ]
  },
  {
   "cell_type": "code",
   "execution_count": 4,
   "metadata": {},
   "outputs": [
    {
     "data": {
      "text/plain": [
       "(1500, 17)"
      ]
     },
     "execution_count": 4,
     "metadata": {},
     "output_type": "execute_result"
    }
   ],
   "source": [
    "# Checking the shape i.e the total number of Rows and number of Features\n",
    "df.shape"
   ]
  },
  {
   "cell_type": "code",
   "execution_count": 5,
   "metadata": {},
   "outputs": [
    {
     "name": "stdout",
     "output_type": "stream",
     "text": [
      "<class 'pandas.core.frame.DataFrame'>\n",
      "RangeIndex: 1500 entries, 0 to 1499\n",
      "Data columns (total 17 columns):\n",
      " #   Column  Non-Null Count  Dtype  \n",
      "---  ------  --------------  -----  \n",
      " 0   F1      1500 non-null   object \n",
      " 1   F2      1500 non-null   float64\n",
      " 2   F3      1500 non-null   float64\n",
      " 3   F4      1500 non-null   float64\n",
      " 4   F5      1500 non-null   float64\n",
      " 5   F6      1500 non-null   float64\n",
      " 6   F7      1500 non-null   float64\n",
      " 7   F8      1500 non-null   float64\n",
      " 8   F9      1500 non-null   int64  \n",
      " 9   F10     1500 non-null   object \n",
      " 10  F11     1500 non-null   float64\n",
      " 11  F12     1500 non-null   float64\n",
      " 12  F13     1500 non-null   float64\n",
      " 13  F14     1500 non-null   float64\n",
      " 14  F15     1500 non-null   float64\n",
      " 15  F16     1500 non-null   int64  \n",
      " 16  Target  1500 non-null   float64\n",
      "dtypes: float64(13), int64(2), object(2)\n",
      "memory usage: 199.3+ KB\n"
     ]
    }
   ],
   "source": [
    "# Checking the data type of each feature and number of Null Values in each features\n",
    "df.info()"
   ]
  },
  {
   "cell_type": "markdown",
   "metadata": {},
   "source": [
    "Data Cleaning: Handling NA values"
   ]
  },
  {
   "cell_type": "code",
   "execution_count": 6,
   "metadata": {},
   "outputs": [
    {
     "data": {
      "text/plain": [
       "F1        0\n",
       "F2        0\n",
       "F3        0\n",
       "F4        0\n",
       "F5        0\n",
       "F6        0\n",
       "F7        0\n",
       "F8        0\n",
       "F9        0\n",
       "F10       0\n",
       "F11       0\n",
       "F12       0\n",
       "F13       0\n",
       "F14       0\n",
       "F15       0\n",
       "F16       0\n",
       "Target    0\n",
       "dtype: int64"
      ]
     },
     "execution_count": 6,
     "metadata": {},
     "output_type": "execute_result"
    }
   ],
   "source": [
    "df.isnull().sum()"
   ]
  },
  {
   "cell_type": "code",
   "execution_count": 7,
   "metadata": {},
   "outputs": [
    {
     "data": {
      "text/plain": [
       "<matplotlib.axes._subplots.AxesSubplot at 0x1edbed7a648>"
      ]
     },
     "execution_count": 7,
     "metadata": {},
     "output_type": "execute_result"
    },
    {
     "data": {
      "image/png": "[encoded data removed]",
      "text/plain": [
       "<Figure size 432x288 with 1 Axes>"
      ]
     },
     "metadata": {
      "needs_background": "light"
     },
     "output_type": "display_data"
    }
   ],
   "source": [
    "# By analysing the data we can clearly see that there are no null values so I am proceeding further\n",
    "sns.heatmap(df.isnull(),yticklabels=False,cbar=False,cmap='viridis')"
   ]
  },
  {
   "cell_type": "markdown",
   "metadata": {},
   "source": [
    "Exploring the data"
   ]
  },
  {
   "cell_type": "code",
   "execution_count": 8,
   "metadata": {},
   "outputs": [
    {
     "data": {
      "text/html": [
       "<div>\n",
       "<style scoped>\n",
       "    .dataframe tbody tr th:only-of-type {\n",
       "        vertical-align: middle;\n",
       "    }\n",
       "\n",
       "    .dataframe tbody tr th {\n",
       "        vertical-align: top;\n",
       "    }\n",
       "\n",
       "    .dataframe thead th {\n",
       "        text-align: right;\n",
       "    }\n",
       "</style>\n",
       "<table border=\"1\" class=\"dataframe\">\n",
       "  <thead>\n",
       "    <tr style=\"text-align: right;\">\n",
       "      <th></th>\n",
       "      <th>F2</th>\n",
       "      <th>F3</th>\n",
       "      <th>F4</th>\n",
       "      <th>F5</th>\n",
       "      <th>F6</th>\n",
       "      <th>F7</th>\n",
       "      <th>F8</th>\n",
       "      <th>F9</th>\n",
       "      <th>F11</th>\n",
       "      <th>F12</th>\n",
       "      <th>F13</th>\n",
       "      <th>F14</th>\n",
       "      <th>F15</th>\n",
       "      <th>F16</th>\n",
       "      <th>Target</th>\n",
       "    </tr>\n",
       "  </thead>\n",
       "  <tbody>\n",
       "    <tr>\n",
       "      <th>count</th>\n",
       "      <td>1500.00000</td>\n",
       "      <td>1500.000000</td>\n",
       "      <td>1500.000000</td>\n",
       "      <td>1500.000000</td>\n",
       "      <td>1500.000000</td>\n",
       "      <td>1500.000000</td>\n",
       "      <td>1500.000000</td>\n",
       "      <td>1500.000000</td>\n",
       "      <td>1500.000000</td>\n",
       "      <td>1500.000000</td>\n",
       "      <td>1500.000000</td>\n",
       "      <td>1500.000000</td>\n",
       "      <td>1500.000000</td>\n",
       "      <td>1500.000000</td>\n",
       "      <td>1500.000000</td>\n",
       "    </tr>\n",
       "    <tr>\n",
       "      <th>mean</th>\n",
       "      <td>-630.78434</td>\n",
       "      <td>-92.061967</td>\n",
       "      <td>-2311.234440</td>\n",
       "      <td>24115.645020</td>\n",
       "      <td>4.041660</td>\n",
       "      <td>60.448080</td>\n",
       "      <td>-6.962873</td>\n",
       "      <td>11.828000</td>\n",
       "      <td>127.205547</td>\n",
       "      <td>8.109187</td>\n",
       "      <td>-3.634847</td>\n",
       "      <td>29.630000</td>\n",
       "      <td>176.946267</td>\n",
       "      <td>3.947333</td>\n",
       "      <td>922.082533</td>\n",
       "    </tr>\n",
       "    <tr>\n",
       "      <th>std</th>\n",
       "      <td>904.26205</td>\n",
       "      <td>29.857614</td>\n",
       "      <td>889.404292</td>\n",
       "      <td>13329.106617</td>\n",
       "      <td>2.893909</td>\n",
       "      <td>58.613624</td>\n",
       "      <td>3.024250</td>\n",
       "      <td>5.430108</td>\n",
       "      <td>1548.308592</td>\n",
       "      <td>5.812853</td>\n",
       "      <td>3.040026</td>\n",
       "      <td>12.549426</td>\n",
       "      <td>84.482786</td>\n",
       "      <td>1.836702</td>\n",
       "      <td>1092.331874</td>\n",
       "    </tr>\n",
       "    <tr>\n",
       "      <th>min</th>\n",
       "      <td>-3708.93000</td>\n",
       "      <td>-210.780000</td>\n",
       "      <td>-5503.920000</td>\n",
       "      <td>-35169.510000</td>\n",
       "      <td>0.040000</td>\n",
       "      <td>-144.460000</td>\n",
       "      <td>-16.390000</td>\n",
       "      <td>0.000000</td>\n",
       "      <td>0.000000</td>\n",
       "      <td>0.080000</td>\n",
       "      <td>-13.700000</td>\n",
       "      <td>-53.220000</td>\n",
       "      <td>-204.060000</td>\n",
       "      <td>0.000000</td>\n",
       "      <td>0.000000</td>\n",
       "    </tr>\n",
       "    <tr>\n",
       "      <th>25%</th>\n",
       "      <td>-1233.33000</td>\n",
       "      <td>-112.110000</td>\n",
       "      <td>-2926.252500</td>\n",
       "      <td>17982.390000</td>\n",
       "      <td>1.945000</td>\n",
       "      <td>21.720000</td>\n",
       "      <td>-9.080000</td>\n",
       "      <td>9.000000</td>\n",
       "      <td>0.260000</td>\n",
       "      <td>3.815000</td>\n",
       "      <td>-5.590000</td>\n",
       "      <td>23.955000</td>\n",
       "      <td>134.800000</td>\n",
       "      <td>3.000000</td>\n",
       "      <td>0.000000</td>\n",
       "    </tr>\n",
       "    <tr>\n",
       "      <th>50%</th>\n",
       "      <td>-641.53500</td>\n",
       "      <td>-92.015000</td>\n",
       "      <td>-2302.755000</td>\n",
       "      <td>24118.815000</td>\n",
       "      <td>3.415000</td>\n",
       "      <td>62.060000</td>\n",
       "      <td>-6.960000</td>\n",
       "      <td>12.000000</td>\n",
       "      <td>2.020000</td>\n",
       "      <td>6.740000</td>\n",
       "      <td>-3.530000</td>\n",
       "      <td>29.685000</td>\n",
       "      <td>177.070000</td>\n",
       "      <td>4.000000</td>\n",
       "      <td>429.570000</td>\n",
       "    </tr>\n",
       "    <tr>\n",
       "      <th>75%</th>\n",
       "      <td>-3.56250</td>\n",
       "      <td>-71.195000</td>\n",
       "      <td>-1703.347500</td>\n",
       "      <td>30824.220000</td>\n",
       "      <td>5.492500</td>\n",
       "      <td>99.740000</td>\n",
       "      <td>-4.840000</td>\n",
       "      <td>15.000000</td>\n",
       "      <td>13.610000</td>\n",
       "      <td>10.945000</td>\n",
       "      <td>-1.655000</td>\n",
       "      <td>35.565000</td>\n",
       "      <td>216.945000</td>\n",
       "      <td>5.000000</td>\n",
       "      <td>1530.205000</td>\n",
       "    </tr>\n",
       "    <tr>\n",
       "      <th>max</th>\n",
       "      <td>2521.86000</td>\n",
       "      <td>13.160000</td>\n",
       "      <td>671.100000</td>\n",
       "      <td>85176.180000</td>\n",
       "      <td>23.390000</td>\n",
       "      <td>239.820000</td>\n",
       "      <td>2.060000</td>\n",
       "      <td>30.000000</td>\n",
       "      <td>54949.060000</td>\n",
       "      <td>45.140000</td>\n",
       "      <td>6.070000</td>\n",
       "      <td>78.390000</td>\n",
       "      <td>738.880000</td>\n",
       "      <td>11.000000</td>\n",
       "      <td>3960.010000</td>\n",
       "    </tr>\n",
       "  </tbody>\n",
       "</table>\n",
       "</div>"
      ],
      "text/plain": [
       "               F2           F3           F4            F5           F6  \\\n",
       "count  1500.00000  1500.000000  1500.000000   1500.000000  1500.000000   \n",
       "mean   -630.78434   -92.061967 -2311.234440  24115.645020     4.041660   \n",
       "std     904.26205    29.857614   889.404292  13329.106617     2.893909   \n",
       "min   -3708.93000  -210.780000 -5503.920000 -35169.510000     0.040000   \n",
       "25%   -1233.33000  -112.110000 -2926.252500  17982.390000     1.945000   \n",
       "50%    -641.53500   -92.015000 -2302.755000  24118.815000     3.415000   \n",
       "75%      -3.56250   -71.195000 -1703.347500  30824.220000     5.492500   \n",
       "max    2521.86000    13.160000   671.100000  85176.180000    23.390000   \n",
       "\n",
       "                F7           F8           F9           F11          F12  \\\n",
       "count  1500.000000  1500.000000  1500.000000   1500.000000  1500.000000   \n",
       "mean     60.448080    -6.962873    11.828000    127.205547     8.109187   \n",
       "std      58.613624     3.024250     5.430108   1548.308592     5.812853   \n",
       "min    -144.460000   -16.390000     0.000000      0.000000     0.080000   \n",
       "25%      21.720000    -9.080000     9.000000      0.260000     3.815000   \n",
       "50%      62.060000    -6.960000    12.000000      2.020000     6.740000   \n",
       "75%      99.740000    -4.840000    15.000000     13.610000    10.945000   \n",
       "max     239.820000     2.060000    30.000000  54949.060000    45.140000   \n",
       "\n",
       "               F13          F14          F15          F16       Target  \n",
       "count  1500.000000  1500.000000  1500.000000  1500.000000  1500.000000  \n",
       "mean     -3.634847    29.630000   176.946267     3.947333   922.082533  \n",
       "std       3.040026    12.549426    84.482786     1.836702  1092.331874  \n",
       "min     -13.700000   -53.220000  -204.060000     0.000000     0.000000  \n",
       "25%      -5.590000    23.955000   134.800000     3.000000     0.000000  \n",
       "50%      -3.530000    29.685000   177.070000     4.000000   429.570000  \n",
       "75%      -1.655000    35.565000   216.945000     5.000000  1530.205000  \n",
       "max       6.070000    78.390000   738.880000    11.000000  3960.010000  "
      ]
     },
     "execution_count": 8,
     "metadata": {},
     "output_type": "execute_result"
    }
   ],
   "source": [
    "# Analysing the statistical information\n",
    "df.describe()"
   ]
  },
  {
   "cell_type": "code",
   "execution_count": 9,
   "metadata": {},
   "outputs": [
    {
     "data": {
      "text/html": [
       "<div>\n",
       "<style scoped>\n",
       "    .dataframe tbody tr th:only-of-type {\n",
       "        vertical-align: middle;\n",
       "    }\n",
       "\n",
       "    .dataframe tbody tr th {\n",
       "        vertical-align: top;\n",
       "    }\n",
       "\n",
       "    .dataframe thead th {\n",
       "        text-align: right;\n",
       "    }\n",
       "</style>\n",
       "<table border=\"1\" class=\"dataframe\">\n",
       "  <thead>\n",
       "    <tr style=\"text-align: right;\">\n",
       "      <th></th>\n",
       "      <th>F2</th>\n",
       "      <th>F3</th>\n",
       "      <th>F4</th>\n",
       "      <th>F5</th>\n",
       "      <th>F6</th>\n",
       "      <th>F7</th>\n",
       "      <th>F8</th>\n",
       "      <th>F9</th>\n",
       "      <th>F11</th>\n",
       "      <th>F12</th>\n",
       "      <th>F13</th>\n",
       "      <th>F14</th>\n",
       "      <th>F15</th>\n",
       "      <th>F16</th>\n",
       "      <th>Target</th>\n",
       "    </tr>\n",
       "  </thead>\n",
       "  <tbody>\n",
       "    <tr>\n",
       "      <th>F2</th>\n",
       "      <td>1.000000</td>\n",
       "      <td>0.061850</td>\n",
       "      <td>-0.007113</td>\n",
       "      <td>-0.007832</td>\n",
       "      <td>-0.041882</td>\n",
       "      <td>0.051243</td>\n",
       "      <td>-0.004091</td>\n",
       "      <td>-0.002825</td>\n",
       "      <td>0.040372</td>\n",
       "      <td>-0.012850</td>\n",
       "      <td>0.039825</td>\n",
       "      <td>0.000184</td>\n",
       "      <td>0.016704</td>\n",
       "      <td>0.007670</td>\n",
       "      <td>-0.263022</td>\n",
       "    </tr>\n",
       "    <tr>\n",
       "      <th>F3</th>\n",
       "      <td>0.061850</td>\n",
       "      <td>1.000000</td>\n",
       "      <td>0.001042</td>\n",
       "      <td>0.013438</td>\n",
       "      <td>0.050148</td>\n",
       "      <td>-0.012594</td>\n",
       "      <td>0.012025</td>\n",
       "      <td>-0.064451</td>\n",
       "      <td>0.006548</td>\n",
       "      <td>-0.017902</td>\n",
       "      <td>-0.004979</td>\n",
       "      <td>-0.035125</td>\n",
       "      <td>0.002309</td>\n",
       "      <td>0.000822</td>\n",
       "      <td>0.015412</td>\n",
       "    </tr>\n",
       "    <tr>\n",
       "      <th>F4</th>\n",
       "      <td>-0.007113</td>\n",
       "      <td>0.001042</td>\n",
       "      <td>1.000000</td>\n",
       "      <td>0.010391</td>\n",
       "      <td>0.001317</td>\n",
       "      <td>0.006295</td>\n",
       "      <td>0.023763</td>\n",
       "      <td>0.013712</td>\n",
       "      <td>-0.006771</td>\n",
       "      <td>-0.005397</td>\n",
       "      <td>-0.019297</td>\n",
       "      <td>0.033006</td>\n",
       "      <td>0.072085</td>\n",
       "      <td>-0.014783</td>\n",
       "      <td>-0.300890</td>\n",
       "    </tr>\n",
       "    <tr>\n",
       "      <th>F5</th>\n",
       "      <td>-0.007832</td>\n",
       "      <td>0.013438</td>\n",
       "      <td>0.010391</td>\n",
       "      <td>1.000000</td>\n",
       "      <td>-0.007184</td>\n",
       "      <td>-0.007560</td>\n",
       "      <td>-0.006157</td>\n",
       "      <td>0.004620</td>\n",
       "      <td>0.066430</td>\n",
       "      <td>0.060349</td>\n",
       "      <td>0.042207</td>\n",
       "      <td>0.024939</td>\n",
       "      <td>0.012488</td>\n",
       "      <td>0.004651</td>\n",
       "      <td>0.029194</td>\n",
       "    </tr>\n",
       "    <tr>\n",
       "      <th>F6</th>\n",
       "      <td>-0.041882</td>\n",
       "      <td>0.050148</td>\n",
       "      <td>0.001317</td>\n",
       "      <td>-0.007184</td>\n",
       "      <td>1.000000</td>\n",
       "      <td>-0.000099</td>\n",
       "      <td>0.009609</td>\n",
       "      <td>0.005589</td>\n",
       "      <td>-0.005763</td>\n",
       "      <td>-0.022325</td>\n",
       "      <td>0.021228</td>\n",
       "      <td>0.036053</td>\n",
       "      <td>-0.014407</td>\n",
       "      <td>0.003647</td>\n",
       "      <td>0.346373</td>\n",
       "    </tr>\n",
       "    <tr>\n",
       "      <th>F7</th>\n",
       "      <td>0.051243</td>\n",
       "      <td>-0.012594</td>\n",
       "      <td>0.006295</td>\n",
       "      <td>-0.007560</td>\n",
       "      <td>-0.000099</td>\n",
       "      <td>1.000000</td>\n",
       "      <td>-0.000302</td>\n",
       "      <td>0.011457</td>\n",
       "      <td>-0.011987</td>\n",
       "      <td>-0.046542</td>\n",
       "      <td>0.012457</td>\n",
       "      <td>-0.027557</td>\n",
       "      <td>-0.009240</td>\n",
       "      <td>0.018839</td>\n",
       "      <td>-0.430990</td>\n",
       "    </tr>\n",
       "    <tr>\n",
       "      <th>F8</th>\n",
       "      <td>-0.004091</td>\n",
       "      <td>0.012025</td>\n",
       "      <td>0.023763</td>\n",
       "      <td>-0.006157</td>\n",
       "      <td>0.009609</td>\n",
       "      <td>-0.000302</td>\n",
       "      <td>1.000000</td>\n",
       "      <td>-0.004793</td>\n",
       "      <td>0.032332</td>\n",
       "      <td>0.037862</td>\n",
       "      <td>0.017546</td>\n",
       "      <td>-0.020489</td>\n",
       "      <td>0.031183</td>\n",
       "      <td>-0.002310</td>\n",
       "      <td>0.020443</td>\n",
       "    </tr>\n",
       "    <tr>\n",
       "      <th>F9</th>\n",
       "      <td>-0.002825</td>\n",
       "      <td>-0.064451</td>\n",
       "      <td>0.013712</td>\n",
       "      <td>0.004620</td>\n",
       "      <td>0.005589</td>\n",
       "      <td>0.011457</td>\n",
       "      <td>-0.004793</td>\n",
       "      <td>1.000000</td>\n",
       "      <td>-0.013561</td>\n",
       "      <td>-0.013474</td>\n",
       "      <td>0.006276</td>\n",
       "      <td>0.049907</td>\n",
       "      <td>-0.007359</td>\n",
       "      <td>0.006516</td>\n",
       "      <td>-0.236200</td>\n",
       "    </tr>\n",
       "    <tr>\n",
       "      <th>F11</th>\n",
       "      <td>0.040372</td>\n",
       "      <td>0.006548</td>\n",
       "      <td>-0.006771</td>\n",
       "      <td>0.066430</td>\n",
       "      <td>-0.005763</td>\n",
       "      <td>-0.011987</td>\n",
       "      <td>0.032332</td>\n",
       "      <td>-0.013561</td>\n",
       "      <td>1.000000</td>\n",
       "      <td>0.059413</td>\n",
       "      <td>0.014330</td>\n",
       "      <td>0.001758</td>\n",
       "      <td>0.027544</td>\n",
       "      <td>0.046442</td>\n",
       "      <td>0.027713</td>\n",
       "    </tr>\n",
       "    <tr>\n",
       "      <th>F12</th>\n",
       "      <td>-0.012850</td>\n",
       "      <td>-0.017902</td>\n",
       "      <td>-0.005397</td>\n",
       "      <td>0.060349</td>\n",
       "      <td>-0.022325</td>\n",
       "      <td>-0.046542</td>\n",
       "      <td>0.037862</td>\n",
       "      <td>-0.013474</td>\n",
       "      <td>0.059413</td>\n",
       "      <td>1.000000</td>\n",
       "      <td>-0.018861</td>\n",
       "      <td>0.032430</td>\n",
       "      <td>-0.026478</td>\n",
       "      <td>-0.028201</td>\n",
       "      <td>0.357137</td>\n",
       "    </tr>\n",
       "    <tr>\n",
       "      <th>F13</th>\n",
       "      <td>0.039825</td>\n",
       "      <td>-0.004979</td>\n",
       "      <td>-0.019297</td>\n",
       "      <td>0.042207</td>\n",
       "      <td>0.021228</td>\n",
       "      <td>0.012457</td>\n",
       "      <td>0.017546</td>\n",
       "      <td>0.006276</td>\n",
       "      <td>0.014330</td>\n",
       "      <td>-0.018861</td>\n",
       "      <td>1.000000</td>\n",
       "      <td>0.025476</td>\n",
       "      <td>-0.008484</td>\n",
       "      <td>0.026931</td>\n",
       "      <td>0.011330</td>\n",
       "    </tr>\n",
       "    <tr>\n",
       "      <th>F14</th>\n",
       "      <td>0.000184</td>\n",
       "      <td>-0.035125</td>\n",
       "      <td>0.033006</td>\n",
       "      <td>0.024939</td>\n",
       "      <td>0.036053</td>\n",
       "      <td>-0.027557</td>\n",
       "      <td>-0.020489</td>\n",
       "      <td>0.049907</td>\n",
       "      <td>0.001758</td>\n",
       "      <td>0.032430</td>\n",
       "      <td>0.025476</td>\n",
       "      <td>1.000000</td>\n",
       "      <td>0.006407</td>\n",
       "      <td>0.022900</td>\n",
       "      <td>0.018677</td>\n",
       "    </tr>\n",
       "    <tr>\n",
       "      <th>F15</th>\n",
       "      <td>0.016704</td>\n",
       "      <td>0.002309</td>\n",
       "      <td>0.072085</td>\n",
       "      <td>0.012488</td>\n",
       "      <td>-0.014407</td>\n",
       "      <td>-0.009240</td>\n",
       "      <td>0.031183</td>\n",
       "      <td>-0.007359</td>\n",
       "      <td>0.027544</td>\n",
       "      <td>-0.026478</td>\n",
       "      <td>-0.008484</td>\n",
       "      <td>0.006407</td>\n",
       "      <td>1.000000</td>\n",
       "      <td>-0.016949</td>\n",
       "      <td>-0.031407</td>\n",
       "    </tr>\n",
       "    <tr>\n",
       "      <th>F16</th>\n",
       "      <td>0.007670</td>\n",
       "      <td>0.000822</td>\n",
       "      <td>-0.014783</td>\n",
       "      <td>0.004651</td>\n",
       "      <td>0.003647</td>\n",
       "      <td>0.018839</td>\n",
       "      <td>-0.002310</td>\n",
       "      <td>0.006516</td>\n",
       "      <td>0.046442</td>\n",
       "      <td>-0.028201</td>\n",
       "      <td>0.026931</td>\n",
       "      <td>0.022900</td>\n",
       "      <td>-0.016949</td>\n",
       "      <td>1.000000</td>\n",
       "      <td>0.193704</td>\n",
       "    </tr>\n",
       "    <tr>\n",
       "      <th>Target</th>\n",
       "      <td>-0.263022</td>\n",
       "      <td>0.015412</td>\n",
       "      <td>-0.300890</td>\n",
       "      <td>0.029194</td>\n",
       "      <td>0.346373</td>\n",
       "      <td>-0.430990</td>\n",
       "      <td>0.020443</td>\n",
       "      <td>-0.236200</td>\n",
       "      <td>0.027713</td>\n",
       "      <td>0.357137</td>\n",
       "      <td>0.011330</td>\n",
       "      <td>0.018677</td>\n",
       "      <td>-0.031407</td>\n",
       "      <td>0.193704</td>\n",
       "      <td>1.000000</td>\n",
       "    </tr>\n",
       "  </tbody>\n",
       "</table>\n",
       "</div>"
      ],
      "text/plain": [
       "              F2        F3        F4        F5        F6        F7        F8  \\\n",
       "F2      1.000000  0.061850 -0.007113 -0.007832 -0.041882  0.051243 -0.004091   \n",
       "F3      0.061850  1.000000  0.001042  0.013438  0.050148 -0.012594  0.012025   \n",
       "F4     -0.007113  0.001042  1.000000  0.010391  0.001317  0.006295  0.023763   \n",
       "F5     -0.007832  0.013438  0.010391  1.000000 -0.007184 -0.007560 -0.006157   \n",
       "F6     -0.041882  0.050148  0.001317 -0.007184  1.000000 -0.000099  0.009609   \n",
       "F7      0.051243 -0.012594  0.006295 -0.007560 -0.000099  1.000000 -0.000302   \n",
       "F8     -0.004091  0.012025  0.023763 -0.006157  0.009609 -0.000302  1.000000   \n",
       "F9     -0.002825 -0.064451  0.013712  0.004620  0.005589  0.011457 -0.004793   \n",
       "F11     0.040372  0.006548 -0.006771  0.066430 -0.005763 -0.011987  0.032332   \n",
       "F12    -0.012850 -0.017902 -0.005397  0.060349 -0.022325 -0.046542  0.037862   \n",
       "F13     0.039825 -0.004979 -0.019297  0.042207  0.021228  0.012457  0.017546   \n",
       "F14     0.000184 -0.035125  0.033006  0.024939  0.036053 -0.027557 -0.020489   \n",
       "F15     0.016704  0.002309  0.072085  0.012488 -0.014407 -0.009240  0.031183   \n",
       "F16     0.007670  0.000822 -0.014783  0.004651  0.003647  0.018839 -0.002310   \n",
       "Target -0.263022  0.015412 -0.300890  0.029194  0.346373 -0.430990  0.020443   \n",
       "\n",
       "              F9       F11       F12       F13       F14       F15       F16  \\\n",
       "F2     -0.002825  0.040372 -0.012850  0.039825  0.000184  0.016704  0.007670   \n",
       "F3     -0.064451  0.006548 -0.017902 -0.004979 -0.035125  0.002309  0.000822   \n",
       "F4      0.013712 -0.006771 -0.005397 -0.019297  0.033006  0.072085 -0.014783   \n",
       "F5      0.004620  0.066430  0.060349  0.042207  0.024939  0.012488  0.004651   \n",
       "F6      0.005589 -0.005763 -0.022325  0.021228  0.036053 -0.014407  0.003647   \n",
       "F7      0.011457 -0.011987 -0.046542  0.012457 -0.027557 -0.009240  0.018839   \n",
       "F8     -0.004793  0.032332  0.037862  0.017546 -0.020489  0.031183 -0.002310   \n",
       "F9      1.000000 -0.013561 -0.013474  0.006276  0.049907 -0.007359  0.006516   \n",
       "F11    -0.013561  1.000000  0.059413  0.014330  0.001758  0.027544  0.046442   \n",
       "F12    -0.013474  0.059413  1.000000 -0.018861  0.032430 -0.026478 -0.028201   \n",
       "F13     0.006276  0.014330 -0.018861  1.000000  0.025476 -0.008484  0.026931   \n",
       "F14     0.049907  0.001758  0.032430  0.025476  1.000000  0.006407  0.022900   \n",
       "F15    -0.007359  0.027544 -0.026478 -0.008484  0.006407  1.000000 -0.016949   \n",
       "F16     0.006516  0.046442 -0.028201  0.026931  0.022900 -0.016949  1.000000   \n",
       "Target -0.236200  0.027713  0.357137  0.011330  0.018677 -0.031407  0.193704   \n",
       "\n",
       "          Target  \n",
       "F2     -0.263022  \n",
       "F3      0.015412  \n",
       "F4     -0.300890  \n",
       "F5      0.029194  \n",
       "F6      0.346373  \n",
       "F7     -0.430990  \n",
       "F8      0.020443  \n",
       "F9     -0.236200  \n",
       "F11     0.027713  \n",
       "F12     0.357137  \n",
       "F13     0.011330  \n",
       "F14     0.018677  \n",
       "F15    -0.031407  \n",
       "F16     0.193704  \n",
       "Target  1.000000  "
      ]
     },
     "execution_count": 9,
     "metadata": {},
     "output_type": "execute_result"
    }
   ],
   "source": [
    "df.corr()"
   ]
  },
  {
   "cell_type": "code",
   "execution_count": 10,
   "metadata": {},
   "outputs": [
    {
     "data": {
      "image/png": "[encoded data removed]",
      "text/plain": [
       "<Figure size 432x288 with 2 Axes>"
      ]
     },
     "metadata": {
      "needs_background": "light"
     },
     "output_type": "display_data"
    }
   ],
   "source": [
    "# Ploting the correlation between the features\n",
    "corr = df.corr()\n",
    "fig = plt.figure()\n",
    "ax = fig.add_subplot(111)\n",
    "cax = ax.matshow(corr,cmap='coolwarm', vmin=-1, vmax=1)\n",
    "fig.colorbar(cax)\n",
    "ticks = np.arange(0,len(df.columns),1)\n",
    "ax.set_xticks(ticks)\n",
    "plt.xticks(rotation=90)\n",
    "ax.set_yticks(ticks)\n",
    "ax.set_xticklabels(df.columns)\n",
    "ax.set_yticklabels(df.columns)\n",
    "plt.show()"
   ]
  },
  {
   "cell_type": "code",
   "execution_count": 11,
   "metadata": {},
   "outputs": [
    {
     "data": {
      "text/plain": [
       "USA       407\n",
       "UK        380\n",
       "Rest      360\n",
       "Europe    353\n",
       "Name: F1, dtype: int64"
      ]
     },
     "execution_count": 11,
     "metadata": {},
     "output_type": "execute_result"
    }
   ],
   "source": [
    "df['F1'].value_counts()"
   ]
  },
  {
   "cell_type": "code",
   "execution_count": 12,
   "metadata": {},
   "outputs": [
    {
     "data": {
      "image/png": "[encoded data removed]",
      "text/plain": [
       "<Figure size 720x360 with 1 Axes>"
      ]
     },
     "metadata": {
      "needs_background": "light"
     },
     "output_type": "display_data"
    }
   ],
   "source": [
    "# Ploting the F1 feature to analyse the count of each\n",
    "plt.subplots(figsize=(10,5))\n",
    "sns.countplot(df['F1'],data=df)\n",
    "plt.show()"
   ]
  },
  {
   "cell_type": "code",
   "execution_count": 13,
   "metadata": {},
   "outputs": [
    {
     "data": {
      "text/plain": [
       "Very low     312\n",
       "Low          310\n",
       "High         301\n",
       "Very high    290\n",
       "Medium       287\n",
       "Name: F10, dtype: int64"
      ]
     },
     "execution_count": 13,
     "metadata": {},
     "output_type": "execute_result"
    }
   ],
   "source": [
    "df['F10'].value_counts()"
   ]
  },
  {
   "cell_type": "code",
   "execution_count": 14,
   "metadata": {},
   "outputs": [
    {
     "data": {
      "image/png": "[encoded data removed]",
      "text/plain": [
       "<Figure size 720x360 with 1 Axes>"
      ]
     },
     "metadata": {
      "needs_background": "light"
     },
     "output_type": "display_data"
    }
   ],
   "source": [
    "# Ploting the F10 feature to analyse the count of each\n",
    "plt.subplots(figsize=(10,5))\n",
    "sns.countplot(df['F10'],data=df)\n",
    "plt.show()"
   ]
  },
  {
   "cell_type": "code",
   "execution_count": 15,
   "metadata": {},
   "outputs": [],
   "source": [
    "# To convert the categorical variables into numerical variables, I am using Label encode to \n",
    "# encode the data \n",
    "from sklearn.preprocessing import LabelEncoder \n",
    "label_encode = LabelEncoder() \n",
    "df['F1']= label_encode.fit_transform(df['F1']) \n",
    "df['F10']= label_encode.fit_transform(df['F10']) \n"
   ]
  },
  {
   "cell_type": "code",
   "execution_count": 16,
   "metadata": {},
   "outputs": [
    {
     "data": {
      "text/html": [
       "<div>\n",
       "<style scoped>\n",
       "    .dataframe tbody tr th:only-of-type {\n",
       "        vertical-align: middle;\n",
       "    }\n",
       "\n",
       "    .dataframe tbody tr th {\n",
       "        vertical-align: top;\n",
       "    }\n",
       "\n",
       "    .dataframe thead th {\n",
       "        text-align: right;\n",
       "    }\n",
       "</style>\n",
       "<table border=\"1\" class=\"dataframe\">\n",
       "  <thead>\n",
       "    <tr style=\"text-align: right;\">\n",
       "      <th></th>\n",
       "      <th>F1</th>\n",
       "      <th>F2</th>\n",
       "      <th>F3</th>\n",
       "      <th>F4</th>\n",
       "      <th>F5</th>\n",
       "      <th>F6</th>\n",
       "      <th>F7</th>\n",
       "      <th>F8</th>\n",
       "      <th>F9</th>\n",
       "      <th>F10</th>\n",
       "      <th>F11</th>\n",
       "      <th>F12</th>\n",
       "      <th>F13</th>\n",
       "      <th>F14</th>\n",
       "      <th>F15</th>\n",
       "      <th>F16</th>\n",
       "      <th>Target</th>\n",
       "    </tr>\n",
       "  </thead>\n",
       "  <tbody>\n",
       "    <tr>\n",
       "      <th>0</th>\n",
       "      <td>2</td>\n",
       "      <td>258.63</td>\n",
       "      <td>-162.72</td>\n",
       "      <td>-2229.84</td>\n",
       "      <td>31489.95</td>\n",
       "      <td>2.52</td>\n",
       "      <td>192.26</td>\n",
       "      <td>-11.99</td>\n",
       "      <td>12</td>\n",
       "      <td>4</td>\n",
       "      <td>280.78</td>\n",
       "      <td>11.44</td>\n",
       "      <td>-4.77</td>\n",
       "      <td>52.05</td>\n",
       "      <td>171.46</td>\n",
       "      <td>6</td>\n",
       "      <td>0.00</td>\n",
       "    </tr>\n",
       "    <tr>\n",
       "      <th>1</th>\n",
       "      <td>0</td>\n",
       "      <td>1033.35</td>\n",
       "      <td>-105.16</td>\n",
       "      <td>-2786.58</td>\n",
       "      <td>24534.99</td>\n",
       "      <td>7.18</td>\n",
       "      <td>46.52</td>\n",
       "      <td>-10.66</td>\n",
       "      <td>15</td>\n",
       "      <td>3</td>\n",
       "      <td>0.02</td>\n",
       "      <td>7.78</td>\n",
       "      <td>-6.82</td>\n",
       "      <td>26.49</td>\n",
       "      <td>119.34</td>\n",
       "      <td>4</td>\n",
       "      <td>1073.28</td>\n",
       "    </tr>\n",
       "    <tr>\n",
       "      <th>2</th>\n",
       "      <td>2</td>\n",
       "      <td>-1207.47</td>\n",
       "      <td>-112.02</td>\n",
       "      <td>-3162.63</td>\n",
       "      <td>23017.47</td>\n",
       "      <td>3.85</td>\n",
       "      <td>71.06</td>\n",
       "      <td>-4.24</td>\n",
       "      <td>24</td>\n",
       "      <td>2</td>\n",
       "      <td>16.32</td>\n",
       "      <td>8.14</td>\n",
       "      <td>-0.91</td>\n",
       "      <td>26.97</td>\n",
       "      <td>15.96</td>\n",
       "      <td>7</td>\n",
       "      <td>1203.67</td>\n",
       "    </tr>\n",
       "    <tr>\n",
       "      <th>3</th>\n",
       "      <td>3</td>\n",
       "      <td>-1090.17</td>\n",
       "      <td>-99.53</td>\n",
       "      <td>-3784.14</td>\n",
       "      <td>25597.56</td>\n",
       "      <td>1.18</td>\n",
       "      <td>-8.54</td>\n",
       "      <td>-4.70</td>\n",
       "      <td>18</td>\n",
       "      <td>0</td>\n",
       "      <td>1.08</td>\n",
       "      <td>2.28</td>\n",
       "      <td>-8.12</td>\n",
       "      <td>35.34</td>\n",
       "      <td>176.32</td>\n",
       "      <td>1</td>\n",
       "      <td>789.66</td>\n",
       "    </tr>\n",
       "    <tr>\n",
       "      <th>4</th>\n",
       "      <td>0</td>\n",
       "      <td>-2191.02</td>\n",
       "      <td>-69.12</td>\n",
       "      <td>-2956.14</td>\n",
       "      <td>24770.94</td>\n",
       "      <td>6.22</td>\n",
       "      <td>55.22</td>\n",
       "      <td>-7.82</td>\n",
       "      <td>9</td>\n",
       "      <td>1</td>\n",
       "      <td>134.62</td>\n",
       "      <td>13.82</td>\n",
       "      <td>-5.92</td>\n",
       "      <td>31.47</td>\n",
       "      <td>117.94</td>\n",
       "      <td>4</td>\n",
       "      <td>2093.67</td>\n",
       "    </tr>\n",
       "  </tbody>\n",
       "</table>\n",
       "</div>"
      ],
      "text/plain": [
       "   F1       F2      F3       F4        F5    F6      F7     F8  F9  F10  \\\n",
       "0   2   258.63 -162.72 -2229.84  31489.95  2.52  192.26 -11.99  12    4   \n",
       "1   0  1033.35 -105.16 -2786.58  24534.99  7.18   46.52 -10.66  15    3   \n",
       "2   2 -1207.47 -112.02 -3162.63  23017.47  3.85   71.06  -4.24  24    2   \n",
       "3   3 -1090.17  -99.53 -3784.14  25597.56  1.18   -8.54  -4.70  18    0   \n",
       "4   0 -2191.02  -69.12 -2956.14  24770.94  6.22   55.22  -7.82   9    1   \n",
       "\n",
       "      F11    F12   F13    F14     F15  F16   Target  \n",
       "0  280.78  11.44 -4.77  52.05  171.46    6     0.00  \n",
       "1    0.02   7.78 -6.82  26.49  119.34    4  1073.28  \n",
       "2   16.32   8.14 -0.91  26.97   15.96    7  1203.67  \n",
       "3    1.08   2.28 -8.12  35.34  176.32    1   789.66  \n",
       "4  134.62  13.82 -5.92  31.47  117.94    4  2093.67  "
      ]
     },
     "execution_count": 16,
     "metadata": {},
     "output_type": "execute_result"
    }
   ],
   "source": [
    "df.head()"
   ]
  },
  {
   "cell_type": "code",
   "execution_count": 17,
   "metadata": {},
   "outputs": [
    {
     "data": {
      "text/plain": [
       "F1           4\n",
       "F2        1492\n",
       "F3        1399\n",
       "F4        1488\n",
       "F5        1500\n",
       "F6         737\n",
       "F7        1405\n",
       "F8         839\n",
       "F9          11\n",
       "F10          5\n",
       "F11        703\n",
       "F12        728\n",
       "F13        833\n",
       "F14        905\n",
       "F15       1411\n",
       "F16         12\n",
       "Target    1051\n",
       "dtype: int64"
      ]
     },
     "execution_count": 17,
     "metadata": {},
     "output_type": "execute_result"
    }
   ],
   "source": [
    "# Checking the unique values in our data\n",
    "df.nunique()"
   ]
  },
  {
   "cell_type": "code",
   "execution_count": 18,
   "metadata": {},
   "outputs": [
    {
     "data": {
      "text/html": [
       "<div>\n",
       "<style scoped>\n",
       "    .dataframe tbody tr th:only-of-type {\n",
       "        vertical-align: middle;\n",
       "    }\n",
       "\n",
       "    .dataframe tbody tr th {\n",
       "        vertical-align: top;\n",
       "    }\n",
       "\n",
       "    .dataframe thead th {\n",
       "        text-align: right;\n",
       "    }\n",
       "</style>\n",
       "<table border=\"1\" class=\"dataframe\">\n",
       "  <thead>\n",
       "    <tr style=\"text-align: right;\">\n",
       "      <th></th>\n",
       "      <th>Unnamed: 0</th>\n",
       "      <th>F1</th>\n",
       "      <th>F2</th>\n",
       "      <th>F3</th>\n",
       "      <th>F4</th>\n",
       "      <th>F5</th>\n",
       "      <th>F6</th>\n",
       "      <th>F7</th>\n",
       "      <th>F8</th>\n",
       "      <th>F9</th>\n",
       "      <th>F10</th>\n",
       "      <th>F11</th>\n",
       "      <th>F12</th>\n",
       "      <th>F13</th>\n",
       "      <th>F14</th>\n",
       "      <th>F15</th>\n",
       "      <th>F16</th>\n",
       "      <th>Target</th>\n",
       "    </tr>\n",
       "  </thead>\n",
       "  <tbody>\n",
       "    <tr>\n",
       "      <th>0</th>\n",
       "      <td>0</td>\n",
       "      <td>1</td>\n",
       "      <td>-1241.58</td>\n",
       "      <td>-132.64</td>\n",
       "      <td>-1706.31</td>\n",
       "      <td>35524.89</td>\n",
       "      <td>5.17</td>\n",
       "      <td>96.82</td>\n",
       "      <td>-3.08</td>\n",
       "      <td>12</td>\n",
       "      <td>1</td>\n",
       "      <td>0.32</td>\n",
       "      <td>10.92</td>\n",
       "      <td>-0.83</td>\n",
       "      <td>15.60</td>\n",
       "      <td>193.70</td>\n",
       "      <td>3</td>\n",
       "      <td>754.042714</td>\n",
       "    </tr>\n",
       "    <tr>\n",
       "      <th>1</th>\n",
       "      <td>1</td>\n",
       "      <td>0</td>\n",
       "      <td>-132.09</td>\n",
       "      <td>-113.12</td>\n",
       "      <td>-850.02</td>\n",
       "      <td>39549.27</td>\n",
       "      <td>4.27</td>\n",
       "      <td>30.16</td>\n",
       "      <td>-6.88</td>\n",
       "      <td>15</td>\n",
       "      <td>3</td>\n",
       "      <td>1.54</td>\n",
       "      <td>6.72</td>\n",
       "      <td>-10.07</td>\n",
       "      <td>22.41</td>\n",
       "      <td>238.70</td>\n",
       "      <td>3</td>\n",
       "      <td>-296.943038</td>\n",
       "    </tr>\n",
       "    <tr>\n",
       "      <th>2</th>\n",
       "      <td>2</td>\n",
       "      <td>3</td>\n",
       "      <td>95.10</td>\n",
       "      <td>-101.95</td>\n",
       "      <td>-1719.48</td>\n",
       "      <td>-2724.33</td>\n",
       "      <td>4.69</td>\n",
       "      <td>125.88</td>\n",
       "      <td>-3.10</td>\n",
       "      <td>12</td>\n",
       "      <td>0</td>\n",
       "      <td>0.00</td>\n",
       "      <td>16.56</td>\n",
       "      <td>-7.42</td>\n",
       "      <td>23.25</td>\n",
       "      <td>149.26</td>\n",
       "      <td>2</td>\n",
       "      <td>808.851581</td>\n",
       "    </tr>\n",
       "    <tr>\n",
       "      <th>3</th>\n",
       "      <td>3</td>\n",
       "      <td>3</td>\n",
       "      <td>2067.24</td>\n",
       "      <td>-118.41</td>\n",
       "      <td>-3986.37</td>\n",
       "      <td>32421.45</td>\n",
       "      <td>5.21</td>\n",
       "      <td>79.06</td>\n",
       "      <td>-11.68</td>\n",
       "      <td>12</td>\n",
       "      <td>0</td>\n",
       "      <td>8.32</td>\n",
       "      <td>17.92</td>\n",
       "      <td>1.38</td>\n",
       "      <td>27.42</td>\n",
       "      <td>310.32</td>\n",
       "      <td>3</td>\n",
       "      <td>1821.370095</td>\n",
       "    </tr>\n",
       "    <tr>\n",
       "      <th>4</th>\n",
       "      <td>4</td>\n",
       "      <td>1</td>\n",
       "      <td>-2080.44</td>\n",
       "      <td>-47.43</td>\n",
       "      <td>-1509.36</td>\n",
       "      <td>24896.07</td>\n",
       "      <td>6.37</td>\n",
       "      <td>69.80</td>\n",
       "      <td>-10.97</td>\n",
       "      <td>9</td>\n",
       "      <td>0</td>\n",
       "      <td>0.38</td>\n",
       "      <td>15.92</td>\n",
       "      <td>-6.15</td>\n",
       "      <td>23.22</td>\n",
       "      <td>241.56</td>\n",
       "      <td>2</td>\n",
       "      <td>1622.649306</td>\n",
       "    </tr>\n",
       "  </tbody>\n",
       "</table>\n",
       "</div>"
      ],
      "text/plain": [
       "   Unnamed: 0  F1       F2      F3       F4        F5    F6      F7     F8  \\\n",
       "0           0   1 -1241.58 -132.64 -1706.31  35524.89  5.17   96.82  -3.08   \n",
       "1           1   0  -132.09 -113.12  -850.02  39549.27  4.27   30.16  -6.88   \n",
       "2           2   3    95.10 -101.95 -1719.48  -2724.33  4.69  125.88  -3.10   \n",
       "3           3   3  2067.24 -118.41 -3986.37  32421.45  5.21   79.06 -11.68   \n",
       "4           4   1 -2080.44  -47.43 -1509.36  24896.07  6.37   69.80 -10.97   \n",
       "\n",
       "   F9  F10   F11    F12    F13    F14     F15  F16       Target  \n",
       "0  12    1  0.32  10.92  -0.83  15.60  193.70    3   754.042714  \n",
       "1  15    3  1.54   6.72 -10.07  22.41  238.70    3  -296.943038  \n",
       "2  12    0  0.00  16.56  -7.42  23.25  149.26    2   808.851581  \n",
       "3  12    0  8.32  17.92   1.38  27.42  310.32    3  1821.370095  \n",
       "4   9    0  0.38  15.92  -6.15  23.22  241.56    2  1622.649306  "
      ]
     },
     "execution_count": 18,
     "metadata": {},
     "output_type": "execute_result"
    }
   ],
   "source": [
    "test_df = pd.read_csv(\"CE802_P3_Test.csv\")\n",
    "test_df.head()"
   ]
  },
  {
   "cell_type": "code",
   "execution_count": 19,
   "metadata": {},
   "outputs": [
    {
     "name": "stdout",
     "output_type": "stream",
     "text": [
      "<class 'pandas.core.frame.DataFrame'>\n",
      "RangeIndex: 1500 entries, 0 to 1499\n",
      "Data columns (total 18 columns):\n",
      " #   Column      Non-Null Count  Dtype  \n",
      "---  ------      --------------  -----  \n",
      " 0   Unnamed: 0  1500 non-null   int64  \n",
      " 1   F1          1500 non-null   int64  \n",
      " 2   F2          1500 non-null   float64\n",
      " 3   F3          1500 non-null   float64\n",
      " 4   F4          1500 non-null   float64\n",
      " 5   F5          1500 non-null   float64\n",
      " 6   F6          1500 non-null   float64\n",
      " 7   F7          1500 non-null   float64\n",
      " 8   F8          1500 non-null   float64\n",
      " 9   F9          1500 non-null   int64  \n",
      " 10  F10         1500 non-null   int64  \n",
      " 11  F11         1500 non-null   float64\n",
      " 12  F12         1500 non-null   float64\n",
      " 13  F13         1500 non-null   float64\n",
      " 14  F14         1500 non-null   float64\n",
      " 15  F15         1500 non-null   float64\n",
      " 16  F16         1500 non-null   int64  \n",
      " 17  Target      1500 non-null   float64\n",
      "dtypes: float64(13), int64(5)\n",
      "memory usage: 211.1 KB\n"
     ]
    }
   ],
   "source": [
    "test_df.info()"
   ]
  },
  {
   "cell_type": "code",
   "execution_count": 20,
   "metadata": {},
   "outputs": [],
   "source": [
    "# To convert the categorical variables into numerical variables, I am using Label encode to \n",
    "# encode the data just like we did in Train dataset\n",
    "test_df['F1']= label_encode.fit_transform(test_df['F1']) \n",
    "test_df['F10']= label_encode.fit_transform(test_df['F10']) "
   ]
  },
  {
   "cell_type": "code",
   "execution_count": 21,
   "metadata": {},
   "outputs": [],
   "source": [
    "X_test=test_df.drop(['Target'],axis=1)\n",
    "y_test=test_df['Target']"
   ]
  },
  {
   "cell_type": "code",
   "execution_count": 22,
   "metadata": {},
   "outputs": [
    {
     "data": {
      "text/plain": [
       "(1500, 16)"
      ]
     },
     "execution_count": 22,
     "metadata": {},
     "output_type": "execute_result"
    }
   ],
   "source": [
    "# Assigning the features of the train data set except the Target variable to X_train\n",
    "X_train=df.drop(['Target'],axis=1)\n",
    "X_train\n",
    "X_train.shape"
   ]
  },
  {
   "cell_type": "code",
   "execution_count": 23,
   "metadata": {},
   "outputs": [
    {
     "data": {
      "text/plain": [
       "(1500,)"
      ]
     },
     "execution_count": 23,
     "metadata": {},
     "output_type": "execute_result"
    }
   ],
   "source": [
    "# Assigning the Target variable to y_train.\n",
    "y_train=df['Target']\n",
    "y_train.shape"
   ]
  },
  {
   "cell_type": "markdown",
   "metadata": {},
   "source": [
    "### Training the model"
   ]
  },
  {
   "cell_type": "code",
   "execution_count": 24,
   "metadata": {},
   "outputs": [],
   "source": [
    "from sklearn.linear_model import LinearRegression, Ridge, ElasticNet, Lasso\n",
    "from sklearn import preprocessing\n",
    "from sklearn.metrics import mean_squared_error"
   ]
  },
  {
   "cell_type": "markdown",
   "metadata": {},
   "source": [
    "##### Linear Regression"
   ]
  },
  {
   "cell_type": "code",
   "execution_count": 25,
   "metadata": {},
   "outputs": [
    {
     "name": "stdout",
     "output_type": "stream",
     "text": [
      "Linear Regression\n",
      "R square: 0.72\n",
      "Root mean squared error: 579.58\n"
     ]
    }
   ],
   "source": [
    "# Creating an object for the Linear Regression model\n",
    "linear_regression = LinearRegression()\n",
    "# Fitting the model on the training data\n",
    "linear_regression.fit(X_train, y_train)\n",
    "\n",
    "print('Linear Regression')\n",
    "# R2 for train and test data\n",
    "R2_lr_train = linear_regression.score(X_train,y_train)\n",
    "print('R square: %.2f' %(R2_lr_train))\n",
    "\n",
    "# Importing square root from Math library to find Root Mean Square Error\n",
    "from math import sqrt\n",
    "RMSE_lr_train = sqrt(np.mean((y_train - linear_regression.predict(X_train))**2))\n",
    "print('Root mean squared error: %.2f' %(RMSE_lr_train))"
   ]
  },
  {
   "cell_type": "markdown",
   "metadata": {},
   "source": [
    "##### Lasso Regression "
   ]
  },
  {
   "cell_type": "code",
   "execution_count": 26,
   "metadata": {},
   "outputs": [
    {
     "data": {
      "text/plain": [
       "Lasso(alpha=1.0, copy_X=True, fit_intercept=True, max_iter=100000,\n",
       "      normalize=False, positive=False, precompute=False, random_state=None,\n",
       "      selection='cyclic', tol=0.1, warm_start=False)"
      ]
     },
     "execution_count": 26,
     "metadata": {},
     "output_type": "execute_result"
    }
   ],
   "source": [
    "# Creating an object for the Lasso regression model\n",
    "lasso = Lasso(max_iter = 100000, tol=0.1)\n",
    "# Fitting the model on the training data\n",
    "lasso.fit(X_train, y_train)"
   ]
  },
  {
   "cell_type": "code",
   "execution_count": 27,
   "metadata": {},
   "outputs": [
    {
     "name": "stdout",
     "output_type": "stream",
     "text": [
      "Lasso regression\n",
      "R squared: 0.61\n",
      "Root mean squared error: 579.59\n"
     ]
    }
   ],
   "source": [
    "# Importing library to find out R2 score\n",
    "from sklearn.metrics import r2_score\n",
    "\n",
    "print('Lasso regression')\n",
    "R2_lasso_train = r2_score(lasso.predict(X_train), y_train)\n",
    "print('R squared: %.2f' %(R2_lasso_train))\n",
    "RMSE_lasso_train = sqrt(mean_squared_error(lasso.predict(X_train), y_train))\n",
    "print('Root mean squared error: %.2f' %(RMSE_lasso_train))"
   ]
  },
  {
   "cell_type": "markdown",
   "metadata": {},
   "source": [
    "##### Ridge Regression"
   ]
  },
  {
   "cell_type": "code",
   "execution_count": 28,
   "metadata": {},
   "outputs": [],
   "source": [
    "# Creating an object for Ridge\n",
    "ridge_grid = Ridge()"
   ]
  },
  {
   "cell_type": "code",
   "execution_count": 29,
   "metadata": {},
   "outputs": [
    {
     "name": "stdout",
     "output_type": "stream",
     "text": [
      "Ridge Regression\n",
      "R square: 0.608\n",
      "Root mean squared error: 579.584\n"
     ]
    }
   ],
   "source": [
    "from sklearn.model_selection import  GridSearchCV\n",
    "# Importing library to find out R2 score \n",
    "from sklearn.metrics import r2_score\n",
    "\n",
    "# Fitting the training model \n",
    "ridge_grid.fit(X_train, y_train)\n",
    "print('Ridge Regression')\n",
    "# R2 for train\n",
    "R2_ridge_grid_train = r2_score(ridge_grid.predict(X_train), y_train)\n",
    "print('R square: %.3f' %(R2_ridge_grid_train))\n",
    "\n",
    "RMSE_ridge_grid_train = sqrt(mean_squared_error(ridge_grid.predict(X_train), y_train))\n",
    "print('Root mean squared error: %.3f' %(RMSE_ridge_grid_train))"
   ]
  },
  {
   "cell_type": "code",
   "execution_count": 36,
   "metadata": {},
   "outputs": [
    {
     "data": {
      "text/plain": [
       "SVR(C=1.0, cache_size=200, coef0=0.0, degree=3, epsilon=0.1, gamma='scale',\n",
       "    kernel='rbf', max_iter=-1, shrinking=True, tol=0.001, verbose=False)"
      ]
     },
     "execution_count": 36,
     "metadata": {},
     "output_type": "execute_result"
    }
   ],
   "source": [
    "\n",
    "from sklearn.model_selection import cross_validate\n",
    "from sklearn.model_selection import KFold\n",
    "\n",
    "from sklearn import svm\n",
    "\n",
    "clf = svm.SVR(kernel=\"rbf\")\n",
    "\n",
    "clf.fit(X_train,y_train)"
   ]
  },
  {
   "cell_type": "code",
   "execution_count": 44,
   "metadata": {},
   "outputs": [
    {
     "ename": "ValueError",
     "evalue": "'mean_absolute_error' is not a valid scoring value. Use sorted(sklearn.metrics.SCORERS.keys()) to get valid options.",
     "output_type": "error",
     "traceback": [
      "\u001b[1;31m---------------------------------------------------------------------------\u001b[0m",
      "\u001b[1;31mKeyError\u001b[0m                                  Traceback (most recent call last)",
      "\u001b[1;32m~\\anaconda3\\lib\\site-packages\\sklearn\\metrics\\_scorer.py\u001b[0m in \u001b[0;36mget_scorer\u001b[1;34m(scoring)\u001b[0m\n\u001b[0;32m    358\u001b[0m             \u001b[1;32melse\u001b[0m\u001b[1;33m:\u001b[0m\u001b[1;33m\u001b[0m\u001b[1;33m\u001b[0m\u001b[0m\n\u001b[1;32m--> 359\u001b[1;33m                 \u001b[0mscorer\u001b[0m \u001b[1;33m=\u001b[0m \u001b[0mSCORERS\u001b[0m\u001b[1;33m[\u001b[0m\u001b[0mscoring\u001b[0m\u001b[1;33m]\u001b[0m\u001b[1;33m\u001b[0m\u001b[1;33m\u001b[0m\u001b[0m\n\u001b[0m\u001b[0;32m    360\u001b[0m         \u001b[1;32mexcept\u001b[0m \u001b[0mKeyError\u001b[0m\u001b[1;33m:\u001b[0m\u001b[1;33m\u001b[0m\u001b[1;33m\u001b[0m\u001b[0m\n",
      "\u001b[1;31mKeyError\u001b[0m: 'mean_absolute_error'",
      "\nDuring handling of the above exception, another exception occurred:\n",
      "\u001b[1;31mValueError\u001b[0m                                Traceback (most recent call last)",
      "\u001b[1;32m<ipython-input-44-c78f275e5dca>\u001b[0m in \u001b[0;36m<module>\u001b[1;34m\u001b[0m\n\u001b[0;32m      2\u001b[0m \u001b[1;33m\u001b[0m\u001b[0m\n\u001b[0;32m      3\u001b[0m \u001b[1;33m\u001b[0m\u001b[0m\n\u001b[1;32m----> 4\u001b[1;33m \u001b[0mscores\u001b[0m \u001b[1;33m=\u001b[0m \u001b[0mcross_validate\u001b[0m\u001b[1;33m(\u001b[0m\u001b[0mclf\u001b[0m\u001b[1;33m,\u001b[0m \u001b[0mX_train\u001b[0m\u001b[1;33m,\u001b[0m \u001b[0my_train\u001b[0m\u001b[1;33m,\u001b[0m \u001b[0mcv\u001b[0m\u001b[1;33m=\u001b[0m\u001b[0mKFold\u001b[0m\u001b[1;33m(\u001b[0m\u001b[1;36m10\u001b[0m\u001b[1;33m,\u001b[0m \u001b[0mshuffle\u001b[0m\u001b[1;33m=\u001b[0m\u001b[1;32mTrue\u001b[0m\u001b[1;33m)\u001b[0m\u001b[1;33m,\u001b[0m \u001b[0mscoring\u001b[0m\u001b[1;33m=\u001b[0m\u001b[0mscoring\u001b[0m\u001b[1;33m,\u001b[0m \u001b[0mreturn_train_score\u001b[0m\u001b[1;33m=\u001b[0m\u001b[1;32mFalse\u001b[0m\u001b[1;33m)\u001b[0m\u001b[1;33m\u001b[0m\u001b[1;33m\u001b[0m\u001b[0m\n\u001b[0m\u001b[0;32m      5\u001b[0m \u001b[1;33m\u001b[0m\u001b[0m\n\u001b[0;32m      6\u001b[0m \u001b[1;33m\u001b[0m\u001b[0m\n",
      "\u001b[1;32m~\\anaconda3\\lib\\site-packages\\sklearn\\model_selection\\_validation.py\u001b[0m in \u001b[0;36mcross_validate\u001b[1;34m(estimator, X, y, groups, scoring, cv, n_jobs, verbose, fit_params, pre_dispatch, return_train_score, return_estimator, error_score)\u001b[0m\n\u001b[0;32m    222\u001b[0m \u001b[1;33m\u001b[0m\u001b[0m\n\u001b[0;32m    223\u001b[0m     \u001b[0mcv\u001b[0m \u001b[1;33m=\u001b[0m \u001b[0mcheck_cv\u001b[0m\u001b[1;33m(\u001b[0m\u001b[0mcv\u001b[0m\u001b[1;33m,\u001b[0m \u001b[0my\u001b[0m\u001b[1;33m,\u001b[0m \u001b[0mclassifier\u001b[0m\u001b[1;33m=\u001b[0m\u001b[0mis_classifier\u001b[0m\u001b[1;33m(\u001b[0m\u001b[0mestimator\u001b[0m\u001b[1;33m)\u001b[0m\u001b[1;33m)\u001b[0m\u001b[1;33m\u001b[0m\u001b[1;33m\u001b[0m\u001b[0m\n\u001b[1;32m--> 224\u001b[1;33m     \u001b[0mscorers\u001b[0m\u001b[1;33m,\u001b[0m \u001b[0m_\u001b[0m \u001b[1;33m=\u001b[0m \u001b[0m_check_multimetric_scoring\u001b[0m\u001b[1;33m(\u001b[0m\u001b[0mestimator\u001b[0m\u001b[1;33m,\u001b[0m \u001b[0mscoring\u001b[0m\u001b[1;33m=\u001b[0m\u001b[0mscoring\u001b[0m\u001b[1;33m)\u001b[0m\u001b[1;33m\u001b[0m\u001b[1;33m\u001b[0m\u001b[0m\n\u001b[0m\u001b[0;32m    225\u001b[0m \u001b[1;33m\u001b[0m\u001b[0m\n\u001b[0;32m    226\u001b[0m     \u001b[1;31m# We clone the estimator to make sure that all the folds are\u001b[0m\u001b[1;33m\u001b[0m\u001b[1;33m\u001b[0m\u001b[1;33m\u001b[0m\u001b[0m\n",
      "\u001b[1;32m~\\anaconda3\\lib\\site-packages\\sklearn\\metrics\\_scorer.py\u001b[0m in \u001b[0;36m_check_multimetric_scoring\u001b[1;34m(estimator, scoring)\u001b[0m\n\u001b[0;32m    509\u001b[0m                                          % repr(scoring))\n\u001b[0;32m    510\u001b[0m                 scorers = {scorer: check_scoring(estimator, scoring=scorer)\n\u001b[1;32m--> 511\u001b[1;33m                            for scorer in scoring}\n\u001b[0m\u001b[0;32m    512\u001b[0m             \u001b[1;32melse\u001b[0m\u001b[1;33m:\u001b[0m\u001b[1;33m\u001b[0m\u001b[1;33m\u001b[0m\u001b[0m\n\u001b[0;32m    513\u001b[0m                 raise ValueError(err_msg +\n",
      "\u001b[1;32m~\\anaconda3\\lib\\site-packages\\sklearn\\metrics\\_scorer.py\u001b[0m in \u001b[0;36m<dictcomp>\u001b[1;34m(.0)\u001b[0m\n\u001b[0;32m    509\u001b[0m                                          % repr(scoring))\n\u001b[0;32m    510\u001b[0m                 scorers = {scorer: check_scoring(estimator, scoring=scorer)\n\u001b[1;32m--> 511\u001b[1;33m                            for scorer in scoring}\n\u001b[0m\u001b[0;32m    512\u001b[0m             \u001b[1;32melse\u001b[0m\u001b[1;33m:\u001b[0m\u001b[1;33m\u001b[0m\u001b[1;33m\u001b[0m\u001b[0m\n\u001b[0;32m    513\u001b[0m                 raise ValueError(err_msg +\n",
      "\u001b[1;32m~\\anaconda3\\lib\\site-packages\\sklearn\\metrics\\_scorer.py\u001b[0m in \u001b[0;36mcheck_scoring\u001b[1;34m(estimator, scoring, allow_none)\u001b[0m\n\u001b[0;32m    401\u001b[0m                         \"'fit' method, %r was passed\" % estimator)\n\u001b[0;32m    402\u001b[0m     \u001b[1;32mif\u001b[0m \u001b[0misinstance\u001b[0m\u001b[1;33m(\u001b[0m\u001b[0mscoring\u001b[0m\u001b[1;33m,\u001b[0m \u001b[0mstr\u001b[0m\u001b[1;33m)\u001b[0m\u001b[1;33m:\u001b[0m\u001b[1;33m\u001b[0m\u001b[1;33m\u001b[0m\u001b[0m\n\u001b[1;32m--> 403\u001b[1;33m         \u001b[1;32mreturn\u001b[0m \u001b[0mget_scorer\u001b[0m\u001b[1;33m(\u001b[0m\u001b[0mscoring\u001b[0m\u001b[1;33m)\u001b[0m\u001b[1;33m\u001b[0m\u001b[1;33m\u001b[0m\u001b[0m\n\u001b[0m\u001b[0;32m    404\u001b[0m     \u001b[1;32melif\u001b[0m \u001b[0mcallable\u001b[0m\u001b[1;33m(\u001b[0m\u001b[0mscoring\u001b[0m\u001b[1;33m)\u001b[0m\u001b[1;33m:\u001b[0m\u001b[1;33m\u001b[0m\u001b[1;33m\u001b[0m\u001b[0m\n\u001b[0;32m    405\u001b[0m         \u001b[1;31m# Heuristic to ensure user has not passed a metric\u001b[0m\u001b[1;33m\u001b[0m\u001b[1;33m\u001b[0m\u001b[1;33m\u001b[0m\u001b[0m\n",
      "\u001b[1;32m~\\anaconda3\\lib\\site-packages\\sklearn\\metrics\\_scorer.py\u001b[0m in \u001b[0;36mget_scorer\u001b[1;34m(scoring)\u001b[0m\n\u001b[0;32m    361\u001b[0m             raise ValueError('%r is not a valid scoring value. '\n\u001b[0;32m    362\u001b[0m                              \u001b[1;34m'Use sorted(sklearn.metrics.SCORERS.keys()) '\u001b[0m\u001b[1;33m\u001b[0m\u001b[1;33m\u001b[0m\u001b[0m\n\u001b[1;32m--> 363\u001b[1;33m                              'to get valid options.' % scoring)\n\u001b[0m\u001b[0;32m    364\u001b[0m     \u001b[1;32melse\u001b[0m\u001b[1;33m:\u001b[0m\u001b[1;33m\u001b[0m\u001b[1;33m\u001b[0m\u001b[0m\n\u001b[0;32m    365\u001b[0m         \u001b[0mscorer\u001b[0m \u001b[1;33m=\u001b[0m \u001b[0mscoring\u001b[0m\u001b[1;33m\u001b[0m\u001b[1;33m\u001b[0m\u001b[0m\n",
      "\u001b[1;31mValueError\u001b[0m: 'mean_absolute_error' is not a valid scoring value. Use sorted(sklearn.metrics.SCORERS.keys()) to get valid options."
     ]
    }
   ],
   "source": [
    "\n",
    "scoring = ['mean_absolute_error', 'mean_squared_error', 'r2']\n",
    "\n",
    "\n",
    "scores = cross_validate(clf, X_train, y_train, cv=KFold(10, shuffle=True), scoring=scoring, return_train_score=False)\n",
    "\n",
    "\n",
    "\n",
    "score = scores['test_r2']\n",
    "print(\"R^2: %.4f (%.4f)\" % (score.mean(), score.std()))"
   ]
  },
  {
   "cell_type": "code",
   "execution_count": 45,
   "metadata": {},
   "outputs": [
    {
     "name": "stdout",
     "output_type": "stream",
     "text": [
      "R square: -43702.761\n",
      "Root mean squared error: 1196.704\n"
     ]
    }
   ],
   "source": [
    "# R2 for train\n",
    "svr_r2 = r2_score(clf.predict(X_train), y_train)\n",
    "print('R square: %.3f' %(svr_r2))\n",
    "\n",
    "svr_rmse = sqrt(mean_squared_error(clf.predict(X_train), y_train))\n",
    "print('Root mean squared error: %.3f' %(svr_rmse))"
   ]
  },
  {
   "cell_type": "code",
   "execution_count": 47,
   "metadata": {},
   "outputs": [
    {
     "data": {
      "text/html": [
       "<div>\n",
       "<style scoped>\n",
       "    .dataframe tbody tr th:only-of-type {\n",
       "        vertical-align: middle;\n",
       "    }\n",
       "\n",
       "    .dataframe tbody tr th {\n",
       "        vertical-align: top;\n",
       "    }\n",
       "\n",
       "    .dataframe thead th {\n",
       "        text-align: right;\n",
       "    }\n",
       "</style>\n",
       "<table border=\"1\" class=\"dataframe\">\n",
       "  <thead>\n",
       "    <tr style=\"text-align: right;\">\n",
       "      <th></th>\n",
       "      <th>Regression Technique</th>\n",
       "      <th>Root Mean Squared Error</th>\n",
       "      <th>R square</th>\n",
       "    </tr>\n",
       "  </thead>\n",
       "  <tbody>\n",
       "    <tr>\n",
       "      <th>0</th>\n",
       "      <td>Linear Regression</td>\n",
       "      <td>579.583873</td>\n",
       "      <td>0.718283</td>\n",
       "    </tr>\n",
       "    <tr>\n",
       "      <th>1</th>\n",
       "      <td>Lasso Regression</td>\n",
       "      <td>579.585696</td>\n",
       "      <td>0.607181</td>\n",
       "    </tr>\n",
       "    <tr>\n",
       "      <th>2</th>\n",
       "      <td>Ridge Regression</td>\n",
       "      <td>579.583893</td>\n",
       "      <td>0.607733</td>\n",
       "    </tr>\n",
       "  </tbody>\n",
       "</table>\n",
       "</div>"
      ],
      "text/plain": [
       "  Regression Technique  Root Mean Squared Error  R square\n",
       "0    Linear Regression               579.583873  0.718283\n",
       "1     Lasso Regression               579.585696  0.607181\n",
       "2     Ridge Regression               579.583893  0.607733"
      ]
     },
     "execution_count": 47,
     "metadata": {},
     "output_type": "execute_result"
    }
   ],
   "source": [
    "# Creating a data frame to compare the Machine learning model and to chose the best model based on the accuracy\n",
    "data = {'Regression Technique':  ['Linear Regression', 'Lasso Regression','Ridge Regression'],\n",
    "        'Root Mean Squared Error': [RMSE_lr_train, RMSE_lasso_train, RMSE_ridge_grid_train],\n",
    "        'R square' : [R2_lr_train, R2_lasso_train, R2_ridge_grid_train]\n",
    "        \n",
    "        }\n",
    "\n",
    "df_comp = pd.DataFrame (data, columns = ['Regression Technique','Root Mean Squared Error', 'R square'])\n",
    "\n",
    "df_comp"
   ]
  },
  {
   "cell_type": "code",
   "execution_count": 48,
   "metadata": {},
   "outputs": [
    {
     "data": {
      "text/plain": [
       "<matplotlib.axes._subplots.AxesSubplot at 0x1edc0609b08>"
      ]
     },
     "execution_count": 48,
     "metadata": {},
     "output_type": "execute_result"
    },
    {
     "data": {
      "image/png": "[encoded data removed]",
      "text/plain": [
       "<Figure size 432x288 with 1 Axes>"
      ]
     },
     "metadata": {
      "needs_background": "light"
     },
     "output_type": "display_data"
    }
   ],
   "source": [
    "# Visualisation of R2 Scores\n",
    "sns.barplot(x=df_comp['R square'], y=df_comp['Regression Technique'], data=df_comp)"
   ]
  },
  {
   "cell_type": "markdown",
   "metadata": {},
   "source": [
    "###### From the above analysis of the performance the machine learning techniques for regression, we can clearly say that Linear Regression is performing well based on most R2 score and least Root Mean Squared Error compared to other models."
   ]
  },
  {
   "cell_type": "markdown",
   "metadata": {},
   "source": [
    "### Prediction on a hold-out test set"
   ]
  },
  {
   "cell_type": "code",
   "execution_count": null,
   "metadata": {},
   "outputs": [],
   "source": [
    "# Using Linear Regression for our final model\n",
    "Predictions = linear_regression.predict(X_test)"
   ]
  },
  {
   "cell_type": "code",
   "execution_count": null,
   "metadata": {},
   "outputs": [],
   "source": [
    "# Saving the predicted values to test data to the target variable\n",
    "X_test['Target'] = Predictions\n",
    "X_test.head()"
   ]
  },
  {
   "cell_type": "code",
   "execution_count": null,
   "metadata": {},
   "outputs": [],
   "source": [
    "X_test.to_csv(\"CE802_P3_Test.csv\")"
   ]
  }
 ],
 "metadata": {
  "kernelspec": {
   "display_name": "Python 3",
   "language": "python",
   "name": "python3"
  },
  "language_info": {
   "codemirror_mode": {
    "name": "ipython",
    "version": 3
   },
   "file_extension": ".py",
   "mimetype": "text/x-python",
   "name": "python",
   "nbconvert_exporter": "python",
   "pygments_lexer": "ipython3",
   "version": "3.7.6"
  }
 },
 "nbformat": 4,
 "nbformat_minor": 4
}
